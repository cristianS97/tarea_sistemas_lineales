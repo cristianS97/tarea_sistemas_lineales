{
 "cells": [
  {
   "cell_type": "markdown",
   "metadata": {},
   "source": [
    "# Ejercicio 1"
   ]
  },
  {
   "cell_type": "code",
   "execution_count": 2,
   "metadata": {},
   "outputs": [],
   "source": [
    "import numpy as np"
   ]
  },
  {
   "cell_type": "code",
   "execution_count": 3,
   "metadata": {},
   "outputs": [],
   "source": [
    "A = np.array([\n",
    "    [10, 2, -1, 1, 0, 10],\n",
    "    [-1, -3, 0, 0, -1, 5],\n",
    "    [0, -1, 3, -1, 0, 0],\n",
    "    [17, 1, 0, 3, 5, -15],\n",
    "    [0,-10, 0, -5, 3, 0],\n",
    "    [-3, 1, 1, 1, -2, 2]\n",
    "])\n",
    "b = np.array([0, 5, 5, 4, -21, 11])\n",
    "AB = np.array([\n",
    "    [10, 2, -1, 1, 0, 10, 0],\n",
    "    [-1, -3, 0, 0, -1, 5, 5],\n",
    "    [0, -1, 3, -1, 0, 0, 5],\n",
    "    [17, 1, 0, 3, 5, -15, 4],\n",
    "    [0,-10, 0, -5, 3, 0, -21],\n",
    "    [-3, 1, 1, 1, -2, 2, 11]\n",
    "])"
   ]
  },
  {
   "cell_type": "code",
   "execution_count": 4,
   "metadata": {},
   "outputs": [
    {
     "data": {
      "text/plain": [
       "True"
      ]
     },
     "execution_count": 4,
     "metadata": {},
     "output_type": "execute_result"
    }
   ],
   "source": [
    "np.linalg.matrix_rank(A) == np.linalg.matrix_rank(AB)"
   ]
  },
  {
   "cell_type": "code",
   "execution_count": 5,
   "metadata": {},
   "outputs": [
    {
     "data": {
      "text/plain": [
       "True"
      ]
     },
     "execution_count": 5,
     "metadata": {},
     "output_type": "execute_result"
    }
   ],
   "source": [
    "n_variables = 6\n",
    "np.linalg.matrix_rank(A) == n_variables"
   ]
  },
  {
   "cell_type": "code",
   "execution_count": 9,
   "metadata": {},
   "outputs": [
    {
     "data": {
      "text/plain": [
       "array([ 0., -1.,  3.,  5., -2., -0.])"
      ]
     },
     "execution_count": 9,
     "metadata": {},
     "output_type": "execute_result"
    }
   ],
   "source": [
    "x = np.round(np.linalg.solve(A, b))\n",
    "x"
   ]
  },
  {
   "cell_type": "code",
   "execution_count": 10,
   "metadata": {},
   "outputs": [
    {
     "data": {
      "text/plain": [
       "array([  0.,   5.,   5.,   4., -21.,  11.])"
      ]
     },
     "execution_count": 10,
     "metadata": {},
     "output_type": "execute_result"
    }
   ],
   "source": [
    "A.dot(x)"
   ]
  },
  {
   "cell_type": "markdown",
   "metadata": {},
   "source": [
    "# Ejercicio 2"
   ]
  },
  {
   "cell_type": "code",
   "execution_count": 16,
   "metadata": {},
   "outputs": [],
   "source": [
    "A = np.array([\n",
    "    [-2, 2, -1, 1, 0, 4, 0],\n",
    "    [-1, -3, 0, 0, -1, 5, -2],\n",
    "    [0, -1, 3, -1, 0, 0, 0],\n",
    "    [0, 1, 0, 3, -2, 1, 4],\n",
    "    [0, -3, 0, -5, 3, 0, -2],\n",
    "    [-3, 1, 1, 1, -2, 2, 1]\n",
    "])\n",
    "B = np.array([5, 3, 5, 0, 5, 0])\n",
    "AB = np.array([\n",
    "    [-2, 2, -1, 1, 0, 4, 0, 5],\n",
    "    [-1, -3, 0, 0, -1, 5, -2, 3],\n",
    "    [0, -1, 3, -1, 0, 0, 0, 5],\n",
    "    [0, 1, 0, 3, -2, 1, 4, 0],\n",
    "    [0, -3, 0, -5, 3, 0, -2, 5],\n",
    "    [-3, 1, 1, 1, -2, 2, 1, 0]\n",
    "])\n",
    "n_variables = 7"
   ]
  },
  {
   "cell_type": "code",
   "execution_count": 14,
   "metadata": {},
   "outputs": [
    {
     "data": {
      "text/plain": [
       "6"
      ]
     },
     "execution_count": 14,
     "metadata": {},
     "output_type": "execute_result"
    }
   ],
   "source": [
    "np.linalg.matrix_rank(A)"
   ]
  },
  {
   "cell_type": "code",
   "execution_count": 15,
   "metadata": {},
   "outputs": [
    {
     "data": {
      "text/plain": [
       "True"
      ]
     },
     "execution_count": 15,
     "metadata": {},
     "output_type": "execute_result"
    }
   ],
   "source": [
    "np.linalg.matrix_rank(A) == np.linalg.matrix_rank(AB)"
   ]
  },
  {
   "cell_type": "code",
   "execution_count": 17,
   "metadata": {},
   "outputs": [
    {
     "data": {
      "text/plain": [
       "False"
      ]
     },
     "execution_count": 17,
     "metadata": {},
     "output_type": "execute_result"
    }
   ],
   "source": [
    "np.linalg.matrix_rank(A) == n_variables"
   ]
  },
  {
   "cell_type": "code",
   "execution_count": 11,
   "metadata": {},
   "outputs": [],
   "source": [
    "from sympy import *\n",
    "from sympy.solvers.solveset import linsolve"
   ]
  },
  {
   "cell_type": "code",
   "execution_count": 21,
   "metadata": {},
   "outputs": [],
   "source": [
    "x1, x2, x3, x4, x5, x6, x7 = symbols('x1, x2, x3, x4, x5, x6, x7')"
   ]
  },
  {
   "cell_type": "code",
   "execution_count": 22,
   "metadata": {},
   "outputs": [
    {
     "data": {
      "text/latex": [
       "$\\displaystyle \\left\\{\\left( \\frac{467}{7} - \\frac{621 x_{7}}{7}, \\  \\frac{383}{7} - \\frac{509 x_{7}}{7}, \\  \\frac{233 x_{7}}{14} - \\frac{149}{14}, \\  \\frac{1717 x_{7}}{14} - \\frac{1283}{14}, \\  \\frac{1853 x_{7}}{14} - \\frac{1349}{14}, \\  \\frac{55}{2} - \\frac{69 x_{7}}{2}, \\  x_{7}\\right)\\right\\}$"
      ],
      "text/plain": [
       "{(467/7 - 621*x7/7, 383/7 - 509*x7/7, 233*x7/14 - 149/14, 1717*x7/14 - 1283/14, 1853*x7/14 - 1349/14, 55/2 - 69*x7/2, x7)}"
      ]
     },
     "execution_count": 22,
     "metadata": {},
     "output_type": "execute_result"
    }
   ],
   "source": [
    "linsolve(Matrix((\n",
    "    [-2, 2, -1, 1, 0, 4, 0, 5],\n",
    "    [-1, -3, 0, 0, -1, 5, -2, 3],\n",
    "    [0, -1, 3, -1, 0, 0, 0, 5],\n",
    "    [0, 1, 0, 3, -2, 1, 4, 0],\n",
    "    [0, -3, 0, -5, 3, 0, -2, 5],\n",
    "    [-3, 1, 1, 1, -2, 2, 1, 0]\n",
    ")),\n",
    "(x1, x2, x3, x4, x5, x6, x7))"
   ]
  },
  {
   "cell_type": "markdown",
   "metadata": {},
   "source": [
    "# Ejercicio 3"
   ]
  },
  {
   "cell_type": "code",
   "execution_count": 27,
   "metadata": {},
   "outputs": [],
   "source": [
    "A = np.array([\n",
    "    [10, 2, -1, 1, 0, 10],\n",
    "    [-1, -3, 0, 0, -1, 5],\n",
    "    [9, -1, -1, 1, -1, 15],\n",
    "    [17, 1, 0, 3, 5, -15],\n",
    "    [0, -10, 0, -5, 3, 0],\n",
    "    [-3, 1, 1, 1, -2, 2]\n",
    "])\n",
    "B = np.array([0, 5, 0, 4, -21, 11])\n",
    "AB = np.array([\n",
    "    [10, 2, -1, 1, 0, 10, 0],\n",
    "    [-1, -3, 0, 0, -1, 5, 5],\n",
    "    [9, -1, -1, 1, -1, 15, 0],\n",
    "    [17, 1, 0, 3, 5, -15, 4],\n",
    "    [0, -10, 0, -5, 3, 0, -21],\n",
    "    [-3, 1, 1, 1, -2, 2, 11]\n",
    "])\n",
    "n_variables = 7"
   ]
  },
  {
   "cell_type": "code",
   "execution_count": 28,
   "metadata": {},
   "outputs": [
    {
     "data": {
      "text/plain": [
       "False"
      ]
     },
     "execution_count": 28,
     "metadata": {},
     "output_type": "execute_result"
    }
   ],
   "source": [
    "np.linalg.matrix_rank(A) == np.linalg.matrix_rank(AB)"
   ]
  },
  {
   "cell_type": "code",
   "execution_count": 29,
   "metadata": {},
   "outputs": [
    {
     "data": {
      "text/plain": [
       "False"
      ]
     },
     "execution_count": 29,
     "metadata": {},
     "output_type": "execute_result"
    }
   ],
   "source": [
    "np.linalg.matrix_rank(A) == n_variables"
   ]
  },
  {
   "cell_type": "code",
   "execution_count": 30,
   "metadata": {},
   "outputs": [
    {
     "data": {
      "text/latex": [
       "$\\displaystyle \\emptyset$"
      ],
      "text/plain": [
       "EmptySet()"
      ]
     },
     "execution_count": 30,
     "metadata": {},
     "output_type": "execute_result"
    }
   ],
   "source": [
    "linsolve(Matrix((\n",
    "    [10, 2, -1, 1, 0, 10, 0],\n",
    "    [-1, -3, 0, 0, -1, 5, 5],\n",
    "    [9, -1, -1, 1, -1, 15, 0],\n",
    "    [17, 1, 0, 3, 5, -15, 4],\n",
    "    [0, -10, 0, -5, 3, 0, -21],\n",
    "    [-3, 1, 1, 1, -2, 2, 11]\n",
    ")),\n",
    "(x1, x2, x3, x4, x5, x6))"
   ]
  },
  {
   "cell_type": "code",
   "execution_count": null,
   "metadata": {},
   "outputs": [],
   "source": []
  }
 ],
 "metadata": {
  "kernelspec": {
   "display_name": "Python 3",
   "language": "python",
   "name": "python3"
  },
  "language_info": {
   "codemirror_mode": {
    "name": "ipython",
    "version": 3
   },
   "file_extension": ".py",
   "mimetype": "text/x-python",
   "name": "python",
   "nbconvert_exporter": "python",
   "pygments_lexer": "ipython3",
   "version": "3.7.4"
  }
 },
 "nbformat": 4,
 "nbformat_minor": 2
}
